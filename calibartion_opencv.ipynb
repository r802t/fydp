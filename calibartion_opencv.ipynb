{
 "cells": [
  {
   "cell_type": "code",
   "execution_count": 1,
   "id": "4122cba2",
   "metadata": {},
   "outputs": [],
   "source": [
    "import numpy as np\n",
    "import cv2\n",
    "import glob\n",
    "# Set the size of the calibration pattern\n",
    "pattern_size = (4,6)\n",
    "\n",
    "# Define the object points for the calibration pattern\n",
    "objp = np.zeros((pattern_size[0]*pattern_size[1], 3), np.float32)\n",
    "objp[:, :2] = np.mgrid[0:pattern_size[0], 0:pattern_size[1]].T.reshape(-1, 2)\n",
    "\n",
    "# Create arrays to store the calibration pattern points and image points\n",
    "objpoints = []\n",
    "imgpoints = []\n",
    "\n",
    "calib_images = glob.glob(\"testing_img/calibration_img/*.jpg\")\n",
    "\n",
    "# Loop over the calibration images and detect the calibration pattern\n",
    "for calib_image in calib_images:\n",
    "    # Load the image\n",
    "    img = cv2.imread(calib_image)\n",
    "    # Convert to grayscale\n",
    "    gray = cv2.cvtColor(img, cv2.COLOR_BGR2GRAY)\n",
    "\n",
    "    # Detect the calibration pattern in the image\n",
    "    ret, corners = cv2.findChessboardCorners(gray, pattern_size, None)\n",
    "\n",
    "    # If the pattern is found, add the points to the arrays\n",
    "    if ret:\n",
    "        objpoints.append(objp)\n",
    "        imgpoints.append(corners)\n",
    "\n",
    "        # Draw the corners on the image\n",
    "        cv2.drawChessboardCorners(img, pattern_size, corners, ret)\n",
    "\n",
    "    # Display the image\n",
    "    #cv2.imshow('img', img)\n",
    "    cv2.waitKey(500)\n",
    "\n",
    "# Compute the camera calibration matrix and distortion coefficients\n",
    "ret, mtx, dist, rvecs, tvecs = cv2.calibrateCamera(objpoints, imgpoints, gray.shape[::-1], None, None)\n"
   ]
  },
  {
   "cell_type": "code",
   "execution_count": 2,
   "id": "0bcc11d4",
   "metadata": {},
   "outputs": [
    {
     "name": "stdout",
     "output_type": "stream",
     "text": [
      "[[932.85025157   0.         630.47034416]\n",
      " [  0.         932.03646748 363.71553234]\n",
      " [  0.           0.           1.        ]]\n"
     ]
    }
   ],
   "source": [
    "print(mtx)"
   ]
  }
 ],
 "metadata": {
  "kernelspec": {
   "display_name": "Python 3 (ipykernel)",
   "language": "python",
   "name": "python3"
  },
  "language_info": {
   "codemirror_mode": {
    "name": "ipython",
    "version": 3
   },
   "file_extension": ".py",
   "mimetype": "text/x-python",
   "name": "python",
   "nbconvert_exporter": "python",
   "pygments_lexer": "ipython3",
   "version": "3.9.10"
  }
 },
 "nbformat": 4,
 "nbformat_minor": 5
}
