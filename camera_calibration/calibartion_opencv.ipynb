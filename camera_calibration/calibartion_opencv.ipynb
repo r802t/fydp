{
 "cells": [
  {
   "cell_type": "code",
   "execution_count": 1,
   "id": "4122cba2",
   "metadata": {},
   "outputs": [],
   "source": [
    "import numpy as np\n",
    "import cv2\n",
    "import glob\n",
    "# Set the size of the calibration pattern\n",
    "pattern_size = (4,6)\n",
    "\n",
    "# Define the object points for the calibration pattern\n",
    "objp = np.zeros((pattern_size[0]*pattern_size[1], 3), np.float32)\n",
    "objp[:, :2] = np.mgrid[0:pattern_size[0], 0:pattern_size[1]].T.reshape(-1, 2)\n",
    "\n",
    "# Create arrays to store the calibration pattern points and image points\n",
    "objpoints = []\n",
    "imgpoints = []\n",
    "\n",
    "calib_images = glob.glob(\"../testing_img/calibration_img_4/*.jpg\")\n",
    "\n",
    "# Loop over the calibration images and detect the calibration pattern\n",
    "for calib_image in calib_images:\n",
    "    # Load the image\n",
    "    img = cv2.imread(calib_image)\n",
    "    # Convert to grayscale\n",
    "    gray = cv2.cvtColor(img, cv2.COLOR_BGR2GRAY)\n",
    "\n",
    "    # Detect the calibration pattern in the image\n",
    "    ret, corners = cv2.findChessboardCorners(gray, pattern_size, None)\n",
    "\n",
    "    # If the pattern is found, add the points to the arrays\n",
    "    if ret:\n",
    "        objpoints.append(objp)\n",
    "        imgpoints.append(corners)\n",
    "        cv2.drawChessboardCorners(img, pattern_size, corners, ret)\n",
    "\n",
    "# Compute the camera calibration matrix and distortion coefficients\n",
    "ret, mtx, dist, rvecs, tvecs = cv2.calibrateCamera(objpoints, imgpoints, gray.shape[::-1], None, None)\n"
   ]
  },
  {
   "cell_type": "code",
   "execution_count": 2,
   "id": "0e2498f9",
   "metadata": {},
   "outputs": [
    {
     "name": "stdout",
     "output_type": "stream",
     "text": [
      "[[978.04773172   0.         611.43925256]\n",
      " [  0.         977.6621435  359.8298164 ]\n",
      " [  0.           0.           1.        ]]\n"
     ]
    }
   ],
   "source": [
    "print(mtx)"
   ]
  },
  {
   "cell_type": "code",
   "execution_count": 3,
   "id": "f413b17d",
   "metadata": {},
   "outputs": [],
   "source": [
    "from numpy import savez\n",
    "savez('calib_param.npz', mtx=mtx, dist=dist,rvecs=rvecs,tvecs=tvecs)"
   ]
  },
  {
   "cell_type": "code",
   "execution_count": 4,
   "id": "31c0b5b7",
   "metadata": {},
   "outputs": [],
   "source": [
    "data = np.load('calib_param.npz')\n",
    "mtx_loaded = data['mtx']\n",
    "dist_loaded = data['dist']\n",
    "rvecs_loaded = data['rvecs']\n",
    "tvecs_loaded = data['tvecs']"
   ]
  },
  {
   "cell_type": "code",
   "execution_count": 5,
   "id": "85c5e85d",
   "metadata": {},
   "outputs": [
    {
     "name": "stdout",
     "output_type": "stream",
     "text": [
      "[[0, 0, 0, 0, 0]]\n"
     ]
    }
   ],
   "source": [
    "mtx_loaded = [[int(round(num)) for num in sublist] for sublist in mtx_loaded]\n",
    "dist_loaded = [[int(round(num)) for num in sublist] for sublist in dist_loaded]\n",
    "print(dist_loaded)"
   ]
  }
 ],
 "metadata": {
  "kernelspec": {
   "display_name": "Python 3 (ipykernel)",
   "language": "python",
   "name": "python3"
  },
  "language_info": {
   "codemirror_mode": {
    "name": "ipython",
    "version": 3
   },
   "file_extension": ".py",
   "mimetype": "text/x-python",
   "name": "python",
   "nbconvert_exporter": "python",
   "pygments_lexer": "ipython3",
   "version": "3.9.10"
  }
 },
 "nbformat": 4,
 "nbformat_minor": 5
}
