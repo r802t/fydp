{
 "cells": [
  {
   "cell_type": "code",
   "execution_count": null,
   "metadata": {},
   "outputs": [],
   "source": [
    "python train.py --img 167 --batch-size -1 --epochs 150 --data dataset.yaml --cfg models/yolov5s_phone.yaml --weights yolov5s.pt  --workers 0 --img-size 640\n",
    "\n",
    "训练模型"
   ]
  },
  {
   "attachments": {},
   "cell_type": "markdown",
   "metadata": {},
   "source": [
    "加载检测模型"
   ]
  },
  {
   "cell_type": "code",
   "execution_count": null,
   "metadata": {},
   "outputs": [],
   "source": [
    "python detect.py --weights runs/train/exp8/weights/best.pt --source ../training_img/images/img_1.jpg --data dataset.yaml --conf 0.25"
   ]
  },
  {
   "cell_type": "code",
   "execution_count": null,
   "metadata": {},
   "outputs": [],
   "source": [
    "tensorboard --logdir run/exp21"
   ]
  },
  {
   "cell_type": "code",
   "execution_count": null,
   "metadata": {},
   "outputs": [],
   "source": [
    "python val.py --weight runs/train/exp4/weights/best.pt --data dataset.yaml"
   ]
  }
 ],
 "metadata": {
  "kernelspec": {
   "display_name": "Python 3 (ipykernel)",
   "language": "python",
   "name": "python3"
  },
  "language_info": {
   "codemirror_mode": {
    "name": "ipython",
    "version": 3
   },
   "file_extension": ".py",
   "mimetype": "text/x-python",
   "name": "python",
   "nbconvert_exporter": "python",
   "pygments_lexer": "ipython3",
   "version": "3.9.10"
  },
  "vscode": {
   "interpreter": {
    "hash": "015ccf5d38b1d897b63e55232f0c0ee9a242e0357a822bba97ea3adb428b97f0"
   }
  }
 },
 "nbformat": 4,
 "nbformat_minor": 2
}
